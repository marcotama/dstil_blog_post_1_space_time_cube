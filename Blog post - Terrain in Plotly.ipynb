{
 "cells": [
  {
   "cell_type": "code",
   "execution_count": null,
   "metadata": {},
   "outputs": [],
   "source": [
    "# Uncomment to install dependencies\n",
    "# !pip install Cython==0.29.14\n",
    "# !pip install numpy==1.17.4\n",
    "# !pip install scipy==1.4.0\n",
    "# !pip install pandas==0.25.3\n",
    "# !pip install scikit-learn==0.22\n",
    "# !pip install matplotlib==3.1.2\n",
    "# !pip install plotly==4.4.1\n",
    "# !pip install scikit-image==0.16.2\n",
    "# !pip install imageio==2.6.1\n",
    "# !pip install Jupyter==1.0.0\n",
    "# !pip install colormath==3.0.0\n",
    "# !pip install ACO-pants==0.5.2\n",
    "# !pip install tabulate==0.8.6\n",
    "# !n MacOS you can install imagemagick with brew without admin privileges:\n",
    "# !brew install imagemagick\n",
    "# In Debian-based Linus distros you will need to run the following in a shell (cannot run sudo from inside Jupyter)\n",
    "# sudo apt install imagemagick"
   ]
  },
  {
   "cell_type": "code",
   "execution_count": null,
   "metadata": {},
   "outputs": [],
   "source": [
    "import re\n",
    "import subprocess\n",
    "import numpy as np\n",
    "import pandas as pd\n",
    "import matplotlib.pyplot as plt\n",
    "import plotly.graph_objs as go\n",
    "from copy import deepcopy\n",
    "from imageio import imread\n",
    "from matplotlib.pyplot import imshow\n",
    "from plotly.offline import init_notebook_mode, iplot, plot\n",
    "init_notebook_mode(connected=True)\n",
    "%matplotlib inline"
   ]
  },
  {
   "cell_type": "code",
   "execution_count": null,
   "metadata": {},
   "outputs": [],
   "source": [
    "print(\"Loading terrain map... \", end='')\n",
    "img = imread('images/Minimap_7.07.png') / 255\n",
    "plt.figure(figsize = (10,10))\n",
    "imshow(img)\n",
    "print(\"Success!\")\n",
    "print(f\"Size: {img.shape[0]}x{img.shape[1]} {img.dtype}\")"
   ]
  },
  {
   "cell_type": "code",
   "execution_count": null,
   "metadata": {},
   "outputs": [],
   "source": [
    "print(\"Dithering terrain map using ImageMagick\")\n",
    "NUM_COLORS = 64\n",
    "cmd = f'''convert images/Minimap_7.07.png \\\n",
    "    -crop 1000x940+10+30 \\\n",
    "    -resize 640000@ \\\n",
    "    +dither \\\n",
    "    -colors {NUM_COLORS} \\\n",
    "    images/Minimap_7.07_{NUM_COLORS}colors.png'''\n",
    "cmd_args = re.split(r'\\s+', cmd)\n",
    "print(f\"Running command `{' '.join(cmd_args)}`... \", end='')\n",
    "result = subprocess.run(cmd_args, stdout=subprocess.PIPE, stderr=subprocess.PIPE)\n",
    "stdout_log = result.stdout.decode('utf-8')\n",
    "stderr_log = result.stderr.decode('utf-8')\n",
    "return_code = result.returncode\n",
    "if return_code == 0:\n",
    "    print(\"Success\")\n",
    "else:\n",
    "    print(\"Failed\")\n",
    "    print(stdout_log)\n",
    "    print(stderr_log)"
   ]
  },
  {
   "cell_type": "code",
   "execution_count": null,
   "metadata": {},
   "outputs": [],
   "source": [
    "print(f\"Loading {NUM_COLORS} colors terrain map... \", end='')\n",
    "img = imread(f'images/Minimap_7.07_{NUM_COLORS}colors.png') / 255\n",
    "plt.figure(figsize = (10,10))\n",
    "imshow(img)\n",
    "print(\"Success!\")\n",
    "print(f\"Size: {img.shape[0]}x{img.shape[1]} {img.dtype}\")"
   ]
  },
  {
   "cell_type": "code",
   "execution_count": null,
   "metadata": {},
   "outputs": [],
   "source": [
    "# Find colors\n",
    "print(\"Finding unique colors in the terrain map... \", end='')\n",
    "img_array = img[:, :, :3].reshape((img.shape[0] * img.shape[1], 3))\n",
    "colors = np.unique(img_array, axis=0)\n",
    "n_colors = colors.shape[0]\n",
    "print(\"Success!\")\n",
    "print(f\"Colors array: {colors.shape[0]}x{colors.shape[1]}\")\n",
    "print()\n",
    "\n",
    "\n",
    "# Show colors\n",
    "def show_colors(colors):\n",
    "    # colors_matrix = np.reshape(colors, [4, n_colors // 4, 3])\n",
    "    imshow(np.reshape(colors, (1, -1, 3)), aspect='auto')\n",
    "    plt.xticks([])\n",
    "    plt.yticks([])\n",
    "    plt.gcf().set_size_inches(10, 1)\n",
    "show_colors(colors)"
   ]
  },
  {
   "cell_type": "code",
   "execution_count": null,
   "metadata": {},
   "outputs": [],
   "source": [
    "print(f\"Creating visualisation of the terrain... \", end='')\n",
    "# Create a custom colormap\n",
    "color_to_value = {tuple(color[:3]): i / (n_colors - 1) for i, color in enumerate(colors)}\n",
    "my_cmap_ply = [(value, 'rgb({}, {}, {})'.format(*color)) for color, value in color_to_value.items()]\n",
    "\n",
    "# Map pixels to values\n",
    "fun_find_value = lambda x: color_to_value[tuple(x[:3])]\n",
    "values = np.apply_along_axis(fun_find_value, 2, np.flipud(img))\n",
    "\n",
    "# Display terrain\n",
    "yy = np.linspace(0, 1, img.shape[0])\n",
    "xx = np.linspace(0, 1, img.shape[1])\n",
    "zz = np.zeros(img.shape[:2])\n",
    "\n",
    "surf = go.Surface(\n",
    "    x=xx, y=yy, z=zz,\n",
    "    colorscale=my_cmap_ply,\n",
    "    surfacecolor=values,\n",
    "    showscale=False\n",
    ")\n",
    "fig = go.Figure(data=[surf], layout=go.Layout())\n",
    "iplot(fig, filename=f'terrain-{NUM_COLORS}colors.html')\n",
    "print(\"Success!\")\n",
    "print(f\"File stored as 'terrain-{NUM_COLORS}colors.html'\")"
   ]
  },
  {
   "cell_type": "code",
   "execution_count": null,
   "metadata": {},
   "outputs": [],
   "source": [
    "print(\"Sorting colors for visual continuity... \", end='')\n",
    "from colormath.color_diff import delta_e_cie2000\n",
    "from colormath.color_objects import LabColor, sRGBColor\n",
    "from colormath.color_conversions import convert_color\n",
    "from pants import World, Solver\n",
    "def rgb_distance(color1, color2):\n",
    "    color1 = sRGBColor(*color1)\n",
    "    color2 = sRGBColor(*color2)\n",
    "    color1 = convert_color(color1, LabColor)\n",
    "    color2 = convert_color(color2, LabColor)\n",
    "    return float(delta_e_cie2000(color1, color2))\n",
    "colors = [tuple(c) for c in colors]\n",
    "solution = Solver().solve(World(colors, rgb_distance))\n",
    "colors = np.array(solution.tour)\n",
    "print(\"Success!\")\n",
    "print(f\"Sorted colors array: {colors.shape[0]}x{colors.shape[1]}\")\n",
    "show_colors(colors)"
   ]
  },
  {
   "cell_type": "code",
   "execution_count": null,
   "metadata": {
    "scrolled": false
   },
   "outputs": [],
   "source": [
    "print(f\"Creating visualisation of the {NUM_COLORS}-colors terrain... \", end='')\n",
    "# Create a custom colormap\n",
    "color_to_value = {tuple(color[:3]): i / (n_colors - 1) for i, color in enumerate(colors)}\n",
    "my_cmap_ply = [(value, 'rgb({}, {}, {})'.format(*color)) for color, value in color_to_value.items()]\n",
    "# Map pixels to values\n",
    "fun_find_value = lambda x: color_to_value[tuple(x[:3])]\n",
    "values = np.apply_along_axis(fun_find_value, 2, np.flipud(img))\n",
    "# Display terrain\n",
    "yy = np.linspace(0, 1, img.shape[0])\n",
    "xx = np.linspace(0, 1, img.shape[1])\n",
    "zz = np.zeros(img.shape[:2])\n",
    "surf = go.Surface(\n",
    "    x=xx, y=yy, z=zz,\n",
    "    colorscale=my_cmap_ply,\n",
    "    surfacecolor=values,\n",
    "    showscale=False\n",
    ")\n",
    "fig = go.Figure(data=[surf], layout=go.Layout())\n",
    "iplot(fig, filename=f'terrain-{NUM_COLORS}colors-improved.html')\n",
    "print(\"Success!\")\n",
    "print(f\"File stored as 'terrain-{NUM_COLORS}colors-improved.html'\")"
   ]
  },
  {
   "cell_type": "code",
   "execution_count": null,
   "metadata": {
    "scrolled": true
   },
   "outputs": [],
   "source": [
    "# Load and display data\n",
    "df = pd.read_csv('data/2842231742.csv')\n",
    "cols = [col for col in df.columns if\n",
    "        col.startswith('X_') or\n",
    "        col.startswith('Y_') or\n",
    "        col.startswith('Deaths_') or\n",
    "        col.startswith('IsAlive_')\n",
    "       ] + ['tick']\n",
    "df = df[cols]\n",
    "df.ffill(inplace=True)\n",
    "print(\"Example data row:\")\n",
    "print(df.iloc[1000,:])"
   ]
  },
  {
   "cell_type": "code",
   "execution_count": null,
   "metadata": {},
   "outputs": [],
   "source": [
    "# Infer players data from column names\n",
    "players = set()\n",
    "pattern = re.compile(r'[^_]+_([0-9])_([RD])_([a-z_]+)_([WL])')\n",
    "for col in df.columns:\n",
    "    match = re.match(pattern, col)\n",
    "    if match:\n",
    "        player_id, team, hero, outcome = match.groups()\n",
    "        players.add((player_id, team, hero, outcome))\n",
    "print(\"Players data:\")\n",
    "display(pd.DataFrame(players, columns=['id', 'team', 'hero', 'win/lose']))"
   ]
  },
  {
   "cell_type": "code",
   "execution_count": null,
   "metadata": {},
   "outputs": [],
   "source": [
    "# Set styles\n",
    "styles = {}\n",
    "for player_id, team, hero, outcome in players:\n",
    "    color = '#0088FF' if team == 'R' else '#FF530D'\n",
    "    styles[hero] = {\n",
    "        'mode': 'lines',\n",
    "        'line': go.scatter3d.Line(color=color),\n",
    "        'legendgroup': hero.replace('_', ' ').title(),\n",
    "        'name': '{hero} ({team})'.format(hero=hero.replace('_', ' ').title(), team=team)\n",
    "    }"
   ]
  },
  {
   "cell_type": "code",
   "execution_count": null,
   "metadata": {
    "scrolled": false
   },
   "outputs": [],
   "source": [
    "# Generate movement traces\n",
    "traces = []\n",
    "col_suffix_pattern = '_{player_id}_{team}_{hero}_{outcome}'\n",
    "for player_id, team, hero, outcome in players:\n",
    "    col_suffix = col_suffix_pattern.format(player_id=player_id, team=team, hero=hero, outcome=outcome)\n",
    "    for _, sub_df in df.groupby('Deaths' + col_suffix):\n",
    "        sub_df = sub_df[sub_df['IsAlive' + col_suffix] == 1]\n",
    "        xx = sub_df['X' + col_suffix].values\n",
    "        yy = sub_df['Y' + col_suffix].values\n",
    "        zz = sub_df['tick'].values\n",
    "        style = styles[hero]\n",
    "        trace = go.Scatter3d(\n",
    "            x=xx, y=yy, z=zz,\n",
    "            showlegend=False,\n",
    "            **style\n",
    "        )\n",
    "        traces.append(trace)"
   ]
  },
  {
   "cell_type": "code",
   "execution_count": null,
   "metadata": {},
   "outputs": [],
   "source": [
    "# Generate death traces\n",
    "for player_id, team, hero, outcome in players:\n",
    "    col_suffix = col_suffix_pattern.format(player_id=player_id, team=team, hero=hero, outcome=outcome)\n",
    "\n",
    "    spawn_locs, death_locs = [], [(np.nan, np.nan, np.nan)]\n",
    "    for _, sub_df in df.groupby('Deaths' + col_suffix):\n",
    "        sub_df = sub_df[sub_df['IsAlive' + col_suffix] == 1]\n",
    "        xx = sub_df['X' + col_suffix].values\n",
    "        yy = sub_df['Y' + col_suffix].values\n",
    "        zz = sub_df['tick'].values\n",
    "        # Save spawn and death location for this \"life\"\n",
    "        spawn_locs.append((xx[0], yy[0], zz[0]))\n",
    "        death_locs.append((xx[-1], yy[-1], zz[-1]))\n",
    "    spawn_locs.append((np.nan, np.nan, np.nan))\n",
    "\n",
    "    # Pairwise iterate death and spawn locations (misaligned on purpose with those NaNs)\n",
    "    for death_loc, spawn_loc in zip(death_locs, spawn_locs):\n",
    "        style = deepcopy(styles[hero])\n",
    "        # noinspection PyTypeChecker\n",
    "        style['line'] = go.scatter3d.Line(color=style['line']['color'], dash='dash')\n",
    "        xx = [death_loc[0], spawn_loc[0]]\n",
    "        yy = [death_loc[1], spawn_loc[1]]\n",
    "        zz = [death_loc[2], spawn_loc[2]]\n",
    "        trace = go.Scatter3d(\n",
    "            x=xx, y=yy, z=zz,\n",
    "            showlegend=False,\n",
    "            **style\n",
    "        )\n",
    "        traces.append(trace)"
   ]
  },
  {
   "cell_type": "code",
   "execution_count": null,
   "metadata": {},
   "outputs": [],
   "source": [
    "# Setup legend\n",
    "for legend_group, style in styles.items():\n",
    "    trace = go.Scatter3d(\n",
    "        x=[np.nan], y=[np.nan], z=[np.nan],\n",
    "        **style\n",
    "    )\n",
    "    traces.append(trace)"
   ]
  },
  {
   "cell_type": "code",
   "execution_count": null,
   "metadata": {},
   "outputs": [],
   "source": [
    "print(f\"Creating visualisation of the {NUM_COLORS}-colors terrain and hero paths... \", end='')\n",
    "yy = np.linspace(-8000, +8000, img.shape[0])\n",
    "xx = np.linspace(-8000, +8000, img.shape[1])\n",
    "zz = np.full(img.shape[:2], -90)\n",
    "\n",
    "surf = go.Surface(\n",
    "    x=xx, y=yy, z=zz,\n",
    "    colorscale=my_cmap_ply,\n",
    "    surfacecolor=values,\n",
    "    showscale=False\n",
    ")\n",
    "\n",
    "layout = go.Layout(\n",
    "    margin=dict(l=0,r=0,b=0,t=0),\n",
    "    scene=go.layout.Scene(\n",
    "        xaxis=go.layout.scene.XAxis(title='', showticklabels=False),\n",
    "        yaxis=go.layout.scene.YAxis(title='', showticklabels=False),\n",
    "        zaxis=go.layout.scene.ZAxis(title='Time (s)'),\n",
    "        aspectratio=dict(x=1, y=1, z=1.3),\n",
    "        camera=go.layout.scene.Camera(\n",
    "            projection=go.layout.scene.camera.Projection(\n",
    "                type='orthographic'\n",
    "            )\n",
    "        )\n",
    "    )\n",
    ")\n",
    "fig = go.Figure(data=[surf] + traces, layout=layout)\n",
    "iplot(fig, filename=f'terrain-{NUM_COLORS}colors+paths-orthographic.html')\n",
    "print(\"Success!\")\n",
    "print(f\"File stored as 'terrain-{NUM_COLORS}colors+paths-orthographic.html'\")"
   ]
  },
  {
   "cell_type": "code",
   "execution_count": null,
   "metadata": {},
   "outputs": [],
   "source": []
  },
  {
   "cell_type": "code",
   "execution_count": null,
   "metadata": {},
   "outputs": [],
   "source": []
  }
 ],
 "metadata": {
  "kernelspec": {
   "display_name": "Python 3",
   "language": "python",
   "name": "python3"
  },
  "language_info": {
   "codemirror_mode": {
    "name": "ipython",
    "version": 3
   },
   "file_extension": ".py",
   "mimetype": "text/x-python",
   "name": "python",
   "nbconvert_exporter": "python",
   "pygments_lexer": "ipython3",
   "version": "3.7.5"
  }
 },
 "nbformat": 4,
 "nbformat_minor": 2
}
